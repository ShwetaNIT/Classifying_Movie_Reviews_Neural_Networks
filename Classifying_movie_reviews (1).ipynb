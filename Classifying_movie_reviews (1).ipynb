{
  "nbformat": 4,
  "nbformat_minor": 0,
  "metadata": {
    "colab": {
      "provenance": []
    },
    "kernelspec": {
      "name": "python3",
      "display_name": "Python 3"
    },
    "language_info": {
      "name": "python"
    }
  },
  "cells": [
    {
      "cell_type": "markdown",
      "source": [
        "2) Check out the Jupyter notebook for Chapter 4 at https://github.com/fchollet/deep-learning-with-python-notebooks/blob/master/chapter04_getting-started-with-neural-networks.ipynb. Then, for the task \"Classifying movie reviews: A binary classification example\", tune the hyper-parameters of the model (such as changing the number of layers, changing the sizes of layers, changing the optimizer, changing the learning rate, etc.), and see if you can improve the model's performance. Submit a Jupyter notebook where you clearly show the code with the best hyper-parameters that you have found, along with its performance on training, validation and test sets. (10 points)"
      ],
      "metadata": {
        "id": "5woKihGQGDHo"
      }
    },
    {
      "cell_type": "markdown",
      "source": [
        "Loading the IMDB dataset"
      ],
      "metadata": {
        "id": "1GmKlPAJHYDb"
      }
    },
    {
      "cell_type": "code",
      "source": [
        "from tensorflow.keras.datasets import imdb\n",
        "(train_data, train_labels), (test_data, test_labels) = imdb.load_data(\n",
        "    num_words=10000)"
      ],
      "metadata": {
        "id": "sEoT57akGIqp"
      },
      "execution_count": null,
      "outputs": []
    },
    {
      "cell_type": "markdown",
      "source": [
        "Decoding reviews back to text"
      ],
      "metadata": {
        "id": "Jxzp83WBHcQF"
      }
    },
    {
      "cell_type": "code",
      "source": [
        "word_index = imdb.get_word_index()\n",
        "reverse_word_index = dict(\n",
        "    [(value, key) for (key, value) in word_index.items()])\n",
        "decoded_review = \" \".join(\n",
        "    [reverse_word_index.get(i - 3, \"?\") for i in train_data[0]])"
      ],
      "metadata": {
        "id": "C0SMSXXrRu58"
      },
      "execution_count": null,
      "outputs": []
    },
    {
      "cell_type": "markdown",
      "source": [
        "Encoding the integer sequences via multi-hot encoding"
      ],
      "metadata": {
        "id": "NSD4dqTyHfOk"
      }
    },
    {
      "cell_type": "code",
      "source": [
        "import numpy as np\n",
        "def vectorize_sequences(sequences, dimension=10000):\n",
        "    results = np.zeros((len(sequences), dimension))\n",
        "    for i, sequence in enumerate(sequences):\n",
        "        for j in sequence:\n",
        "            results[i, j] = 1.\n",
        "    return results\n",
        "x_train = vectorize_sequences(train_data)\n",
        "x_test = vectorize_sequences(test_data)"
      ],
      "metadata": {
        "id": "KWU_yPzbR2ak"
      },
      "execution_count": null,
      "outputs": []
    },
    {
      "cell_type": "code",
      "source": [
        "y_train = np.asarray(train_labels).astype(\"float32\")\n",
        "y_test = np.asarray(test_labels).astype(\"float32\")"
      ],
      "metadata": {
        "id": "qMHr7SiKR66B"
      },
      "execution_count": null,
      "outputs": []
    },
    {
      "cell_type": "markdown",
      "source": [
        "Model definition"
      ],
      "metadata": {
        "id": "OubnywFKHjp6"
      }
    },
    {
      "cell_type": "code",
      "source": [
        "from tensorflow import keras\n",
        "from tensorflow.keras import layers\n",
        "opt = keras.optimizers.Adamax(learning_rate=0.0008)\n",
        "\n",
        "model = keras.Sequential([\n",
        "    layers.Dense(16, activation=\"relu\"),\n",
        "    layers.Dropout(0.2),\n",
        "    layers.Dense(16, activation=\"relu\"),\n",
        "    layers.Dropout(0.2),\n",
        "    layers.Dense(1, activation=\"sigmoid\")\n",
        "])"
      ],
      "metadata": {
        "id": "LZ5Zee4LR-FI"
      },
      "execution_count": null,
      "outputs": []
    },
    {
      "cell_type": "markdown",
      "source": [
        "Compiling the model"
      ],
      "metadata": {
        "id": "fL7-GvdwHtaH"
      }
    },
    {
      "cell_type": "code",
      "source": [
        "model.compile(optimizer=\"adamax\",\n",
        "              loss=\"binary_crossentropy\",\n",
        "              metrics=[\"accuracy\"])"
      ],
      "metadata": {
        "id": "WQ80sIX-R_c7"
      },
      "execution_count": null,
      "outputs": []
    },
    {
      "cell_type": "markdown",
      "source": [
        "Setting aside a validation set"
      ],
      "metadata": {
        "id": "GPU9qMImHwuU"
      }
    },
    {
      "cell_type": "code",
      "source": [
        "x_val = x_train[:10000]\n",
        "partial_x_train = x_train[10000:]\n",
        "y_val = y_train[:10000]\n",
        "partial_y_train = y_train[10000:]"
      ],
      "metadata": {
        "id": "9DhpHF7CSGnq"
      },
      "execution_count": null,
      "outputs": []
    },
    {
      "cell_type": "markdown",
      "source": [
        "Training your model"
      ],
      "metadata": {
        "id": "vpvHiqIhHzFH"
      }
    },
    {
      "cell_type": "code",
      "source": [
        "history = model.fit(partial_x_train,\n",
        "                    partial_y_train,\n",
        "                    epochs=30,\n",
        "                    batch_size=512,\n",
        "                    validation_data=(x_val, y_val))"
      ],
      "metadata": {
        "colab": {
          "base_uri": "https://localhost:8080/"
        },
        "id": "GurJrpW8SRhc",
        "outputId": "910516b9-632c-44e7-c794-bb92e9b784e6"
      },
      "execution_count": null,
      "outputs": [
        {
          "output_type": "stream",
          "name": "stdout",
          "text": [
            "Epoch 1/30\n",
            "30/30 [==============================] - 3s 81ms/step - loss: 0.6300 - accuracy: 0.6539 - val_loss: 0.5403 - val_accuracy: 0.8037\n",
            "Epoch 2/30\n",
            "30/30 [==============================] - 2s 58ms/step - loss: 0.5009 - accuracy: 0.7950 - val_loss: 0.4407 - val_accuracy: 0.8527\n",
            "Epoch 3/30\n",
            "30/30 [==============================] - 1s 45ms/step - loss: 0.4190 - accuracy: 0.8435 - val_loss: 0.3788 - val_accuracy: 0.8698\n",
            "Epoch 4/30\n",
            "30/30 [==============================] - 1s 51ms/step - loss: 0.3626 - accuracy: 0.8703 - val_loss: 0.3408 - val_accuracy: 0.8783\n",
            "Epoch 5/30\n",
            "30/30 [==============================] - 2s 59ms/step - loss: 0.3176 - accuracy: 0.8896 - val_loss: 0.3168 - val_accuracy: 0.8823\n",
            "Epoch 6/30\n",
            "30/30 [==============================] - 2s 53ms/step - loss: 0.2857 - accuracy: 0.9015 - val_loss: 0.3008 - val_accuracy: 0.8863\n",
            "Epoch 7/30\n",
            "30/30 [==============================] - 1s 42ms/step - loss: 0.2602 - accuracy: 0.9113 - val_loss: 0.2928 - val_accuracy: 0.8900\n",
            "Epoch 8/30\n",
            "30/30 [==============================] - 1s 40ms/step - loss: 0.2363 - accuracy: 0.9234 - val_loss: 0.2872 - val_accuracy: 0.8886\n",
            "Epoch 9/30\n",
            "30/30 [==============================] - 2s 56ms/step - loss: 0.2155 - accuracy: 0.9301 - val_loss: 0.2833 - val_accuracy: 0.8874\n",
            "Epoch 10/30\n",
            "30/30 [==============================] - 2s 69ms/step - loss: 0.2017 - accuracy: 0.9373 - val_loss: 0.2870 - val_accuracy: 0.8882\n",
            "Epoch 11/30\n",
            "30/30 [==============================] - 1s 45ms/step - loss: 0.1845 - accuracy: 0.9401 - val_loss: 0.2830 - val_accuracy: 0.8874\n",
            "Epoch 12/30\n",
            "30/30 [==============================] - 1s 43ms/step - loss: 0.1717 - accuracy: 0.9474 - val_loss: 0.2894 - val_accuracy: 0.8879\n",
            "Epoch 13/30\n",
            "30/30 [==============================] - 1s 41ms/step - loss: 0.1607 - accuracy: 0.9529 - val_loss: 0.2853 - val_accuracy: 0.8867\n",
            "Epoch 14/30\n",
            "30/30 [==============================] - 1s 43ms/step - loss: 0.1502 - accuracy: 0.9550 - val_loss: 0.2920 - val_accuracy: 0.8878\n",
            "Epoch 15/30\n",
            "30/30 [==============================] - 1s 43ms/step - loss: 0.1402 - accuracy: 0.9575 - val_loss: 0.2970 - val_accuracy: 0.8880\n",
            "Epoch 16/30\n",
            "30/30 [==============================] - 1s 41ms/step - loss: 0.1310 - accuracy: 0.9645 - val_loss: 0.2983 - val_accuracy: 0.8860\n",
            "Epoch 17/30\n",
            "30/30 [==============================] - 1s 40ms/step - loss: 0.1179 - accuracy: 0.9671 - val_loss: 0.3044 - val_accuracy: 0.8862\n",
            "Epoch 18/30\n",
            "30/30 [==============================] - 1s 42ms/step - loss: 0.1124 - accuracy: 0.9691 - val_loss: 0.3111 - val_accuracy: 0.8852\n",
            "Epoch 19/30\n",
            "30/30 [==============================] - 2s 56ms/step - loss: 0.1026 - accuracy: 0.9743 - val_loss: 0.3160 - val_accuracy: 0.8850\n",
            "Epoch 20/30\n",
            "30/30 [==============================] - 2s 62ms/step - loss: 0.0966 - accuracy: 0.9753 - val_loss: 0.3215 - val_accuracy: 0.8845\n",
            "Epoch 21/30\n",
            "30/30 [==============================] - 1s 45ms/step - loss: 0.0896 - accuracy: 0.9763 - val_loss: 0.3299 - val_accuracy: 0.8825\n",
            "Epoch 22/30\n",
            "30/30 [==============================] - 1s 43ms/step - loss: 0.0848 - accuracy: 0.9782 - val_loss: 0.3430 - val_accuracy: 0.8819\n",
            "Epoch 23/30\n",
            "30/30 [==============================] - 1s 41ms/step - loss: 0.0774 - accuracy: 0.9811 - val_loss: 0.3476 - val_accuracy: 0.8821\n",
            "Epoch 24/30\n",
            "30/30 [==============================] - 1s 42ms/step - loss: 0.0729 - accuracy: 0.9823 - val_loss: 0.3535 - val_accuracy: 0.8831\n",
            "Epoch 25/30\n",
            "30/30 [==============================] - 1s 43ms/step - loss: 0.0675 - accuracy: 0.9852 - val_loss: 0.3629 - val_accuracy: 0.8832\n",
            "Epoch 26/30\n",
            "30/30 [==============================] - 1s 42ms/step - loss: 0.0633 - accuracy: 0.9857 - val_loss: 0.3713 - val_accuracy: 0.8826\n",
            "Epoch 27/30\n",
            "30/30 [==============================] - 1s 43ms/step - loss: 0.0590 - accuracy: 0.9869 - val_loss: 0.3790 - val_accuracy: 0.8820\n",
            "Epoch 28/30\n",
            "30/30 [==============================] - 1s 42ms/step - loss: 0.0567 - accuracy: 0.9886 - val_loss: 0.3847 - val_accuracy: 0.8819\n",
            "Epoch 29/30\n",
            "30/30 [==============================] - 2s 59ms/step - loss: 0.0514 - accuracy: 0.9897 - val_loss: 0.3990 - val_accuracy: 0.8815\n",
            "Epoch 30/30\n",
            "30/30 [==============================] - 2s 64ms/step - loss: 0.0476 - accuracy: 0.9905 - val_loss: 0.4090 - val_accuracy: 0.8809\n"
          ]
        }
      ]
    },
    {
      "cell_type": "code",
      "source": [
        "history_dict = history.history\n",
        "history_dict.keys()"
      ],
      "metadata": {
        "colab": {
          "base_uri": "https://localhost:8080/"
        },
        "id": "bidyhIPoTPgt",
        "outputId": "84b76add-4d6a-4c7c-fd95-ccc00ae99440"
      },
      "execution_count": null,
      "outputs": [
        {
          "output_type": "execute_result",
          "data": {
            "text/plain": [
              "dict_keys(['loss', 'accuracy', 'val_loss', 'val_accuracy'])"
            ]
          },
          "metadata": {},
          "execution_count": 196
        }
      ]
    },
    {
      "cell_type": "markdown",
      "source": [
        "Plotting the training and validation loss"
      ],
      "metadata": {
        "id": "-2rfp2Q1H3TE"
      }
    },
    {
      "cell_type": "code",
      "source": [
        "import matplotlib.pyplot as plt\n",
        "history_dict = history.history\n",
        "loss_values = history_dict[\"loss\"]\n",
        "val_loss_values = history_dict[\"val_loss\"]\n",
        "epochs = range(1, len(loss_values) + 1)\n",
        "plt.plot(epochs, loss_values, \"bo\", label=\"Training loss\")\n",
        "plt.plot(epochs, val_loss_values, \"b\", label=\"Validation loss\")\n",
        "plt.title(\"Training and validation loss\")\n",
        "plt.xlabel(\"Epochs\")\n",
        "plt.ylabel(\"Loss\")\n",
        "plt.legend()\n",
        "plt.show()"
      ],
      "metadata": {
        "colab": {
          "base_uri": "https://localhost:8080/",
          "height": 295
        },
        "id": "2MfHyDVxTSgY",
        "outputId": "e413ca35-be66-4cf6-b194-e8eafa39f73c"
      },
      "execution_count": null,
      "outputs": [
        {
          "output_type": "display_data",
          "data": {
            "text/plain": [
              "<Figure size 432x288 with 1 Axes>"
            ],
            "image/png": "[encoded data removed]"
          },
          "metadata": {
            "needs_background": "light"
          }
        }
      ]
    },
    {
      "cell_type": "markdown",
      "source": [
        "Plotting the training and validation accuracy"
      ],
      "metadata": {
        "id": "3VNpXnBXH45X"
      }
    },
    {
      "cell_type": "code",
      "source": [
        "plt.clf()\n",
        "acc = history_dict[\"accuracy\"]\n",
        "val_acc = history_dict[\"val_accuracy\"]\n",
        "plt.plot(epochs, acc, \"bo\", label=\"Training acc\")\n",
        "plt.plot(epochs, val_acc, \"b\", label=\"Validation acc\")\n",
        "plt.title(\"Training and validation accuracy\")\n",
        "plt.xlabel(\"Epochs\")\n",
        "plt.ylabel(\"Accuracy\")\n",
        "plt.legend()\n",
        "plt.show()"
      ],
      "metadata": {
        "colab": {
          "base_uri": "https://localhost:8080/",
          "height": 295
        },
        "id": "caQTMQS0TXMq",
        "outputId": "42b1e0f5-0583-4998-c3c3-028027204cbc"
      },
      "execution_count": null,
      "outputs": [
        {
          "output_type": "display_data",
          "data": {
            "text/plain": [
              "<Figure size 432x288 with 1 Axes>"
            ],
            "image/png": "[encoded data removed]"
          },
          "metadata": {
            "needs_background": "light"
          }
        }
      ]
    },
    {
      "cell_type": "markdown",
      "source": [
        "Retraining a model from scratch"
      ],
      "metadata": {
        "id": "2J9MOOJLH_yd"
      }
    },
    {
      "cell_type": "code",
      "source": [
        "model = keras.Sequential([\n",
        "    layers.Dense(16, activation=\"relu\"),\n",
        "    layers.Dropout(0.2),\n",
        "    layers.Dense(16, activation=\"relu\"),\n",
        "    layers.Dropout(0.2),\n",
        "    layers.Dense(1, activation=\"sigmoid\")\n",
        "])\n",
        "model.compile(optimizer=\"adamax\",\n",
        "              loss=\"binary_crossentropy\",\n",
        "              metrics=[\"accuracy\"])\n",
        "model.fit(x_train, y_train, epochs=7, batch_size=512)\n",
        "results = model.evaluate(x_test, y_test)"
      ],
      "metadata": {
        "colab": {
          "base_uri": "https://localhost:8080/"
        },
        "id": "BuosIbzKTcdF",
        "outputId": "ef728a00-39aa-46f9-b13a-434e354b4085"
      },
      "execution_count": null,
      "outputs": [
        {
          "output_type": "stream",
          "name": "stdout",
          "text": [
            "Epoch 1/7\n",
            "49/49 [==============================] - 2s 35ms/step - loss: 0.6169 - accuracy: 0.6824\n",
            "Epoch 2/7\n",
            "49/49 [==============================] - 2s 32ms/step - loss: 0.4580 - accuracy: 0.8217\n",
            "Epoch 3/7\n",
            "49/49 [==============================] - 2s 37ms/step - loss: 0.3616 - accuracy: 0.8678\n",
            "Epoch 4/7\n",
            "49/49 [==============================] - 2s 45ms/step - loss: 0.3044 - accuracy: 0.8910\n",
            "Epoch 5/7\n",
            "49/49 [==============================] - 2s 39ms/step - loss: 0.2687 - accuracy: 0.9057\n",
            "Epoch 6/7\n",
            "49/49 [==============================] - 2s 32ms/step - loss: 0.2419 - accuracy: 0.9154\n",
            "Epoch 7/7\n",
            "49/49 [==============================] - 2s 33ms/step - loss: 0.2179 - accuracy: 0.9241\n",
            "782/782 [==============================] - 3s 3ms/step - loss: 0.2757 - accuracy: 0.8894\n"
          ]
        }
      ]
    },
    {
      "cell_type": "code",
      "source": [
        "results"
      ],
      "metadata": {
        "colab": {
          "base_uri": "https://localhost:8080/"
        },
        "id": "sN8DtAaaTxWh",
        "outputId": "736c0074-a132-4eea-b777-a4118191bd4c"
      },
      "execution_count": null,
      "outputs": [
        {
          "output_type": "execute_result",
          "data": {
            "text/plain": [
              "[0.27571865916252136, 0.8894000053405762]"
            ]
          },
          "metadata": {},
          "execution_count": 200
        }
      ]
    },
    {
      "cell_type": "markdown",
      "source": [
        "Using a trained model to generate predictions on new data"
      ],
      "metadata": {
        "id": "5UeegUr7IEC2"
      }
    },
    {
      "cell_type": "code",
      "source": [
        "model.predict(x_test)"
      ],
      "metadata": {
        "colab": {
          "base_uri": "https://localhost:8080/"
        },
        "id": "6AOGq-72T181",
        "outputId": "5e877e2a-51e0-4db8-ac18-86d7e596c6ae"
      },
      "execution_count": null,
      "outputs": [
        {
          "output_type": "stream",
          "name": "stdout",
          "text": [
            "782/782 [==============================] - 3s 3ms/step\n"
          ]
        },
        {
          "output_type": "execute_result",
          "data": {
            "text/plain": [
              "array([[0.15008962],\n",
              "       [0.99604666],\n",
              "       [0.9364439 ],\n",
              "       ...,\n",
              "       [0.08840391],\n",
              "       [0.05727796],\n",
              "       [0.52431846]], dtype=float32)"
            ]
          },
          "metadata": {},
          "execution_count": 201
        }
      ]
    },
    {
      "cell_type": "markdown",
      "source": [
        "I've tried to train the neural network using different hyperparameters, however this particualr neural network having the following properties:\n",
        "1. 5 layers\n",
        "2. 2 dense layers with 16 neurons with relu activation function, 2 dropout layers having 0.2 dropout ratio, and last layer with 1 neuron having sigmoid activation function\n",
        "3. Adamax optimizer\n",
        "4. Trained for 7 epochs\n",
        "\n",
        "gives the maximum model accuracy of 88.94 percent.\n",
        "The original model given in this exercise has a model accuracy of 88.85 percent.\n",
        "\n",
        "So, we improved the model accuracy by 0.1 percent.\n"
      ],
      "metadata": {
        "id": "yeJ3rEyGREi5"
      }
    }
  ]
}